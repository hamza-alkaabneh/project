{
  "nbformat": 4,
  "nbformat_minor": 0,
  "metadata": {
    "colab": {
      "provenance": [],
      "authorship_tag": "ABX9TyPD2Yvuq6LeIB+6RCMcFrs6",
      "include_colab_link": true
    },
    "kernelspec": {
      "name": "python3",
      "display_name": "Python 3"
    },
    "language_info": {
      "name": "python"
    }
  },
  "cells": [
    {
      "cell_type": "markdown",
      "metadata": {
        "id": "view-in-github",
        "colab_type": "text"
      },
      "source": [
        "<a href=\"https://colab.research.google.com/github/hamza-alkaabneh/project/blob/main/untitled2.ipynb\" target=\"_parent\"><img src=\"https://colab.research.google.com/assets/colab-badge.svg\" alt=\"Open In Colab\"/></a>"
      ]
    },
    {
      "cell_type": "code",
      "execution_count": null,
      "metadata": {
        "colab": {
          "base_uri": "https://localhost:8080/"
        },
        "id": "Ggfp9gavxmt8",
        "outputId": "f6838746-2f29-4c51-ce01-73eef470873b"
      },
      "outputs": [
        {
          "output_type": "stream",
          "name": "stdout",
          "text": [
            "test test test \n"
          ]
        }
      ],
      "source": [
        "#this is a test\n",
        "print('test test test ')"
      ]
    },
    {
      "cell_type": "code",
      "source": [
        "print('another test  13 23 23 23 ')"
      ],
      "metadata": {
        "id": "PfivpdvYx4vd",
        "colab": {
          "base_uri": "https://localhost:8080/"
        },
        "outputId": "05922bc7-017d-4dcb-d4ad-a30c4efef1bd"
      },
      "execution_count": null,
      "outputs": [
        {
          "output_type": "stream",
          "name": "stdout",
          "text": [
            "another test  13 23 23 23 \n"
          ]
        }
      ]
    }
  ]
}