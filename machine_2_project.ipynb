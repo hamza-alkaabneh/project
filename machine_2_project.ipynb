{
  "nbformat": 4,
  "nbformat_minor": 0,
  "metadata": {
    "colab": {
      "provenance": [],
      "name": "machine 2 project.ipynb",
      "authorship_tag": "ABX9TyOoTevAEswf0qGMWXDu2KwS",
      "include_colab_link": true
    },
    "kernelspec": {
      "name": "python3",
      "display_name": "Python 3"
    },
    "language_info": {
      "name": "python"
    }
  },
  "cells": [
    {
      "cell_type": "markdown",
      "metadata": {
        "id": "view-in-github",
        "colab_type": "text"
      },
      "source": [
        "<a href=\"https://colab.research.google.com/github/hamza-alkaabneh/project/blob/main/machine_2_project.ipynb\" target=\"_parent\"><img src=\"https://colab.research.google.com/assets/colab-badge.svg\" alt=\"Open In Colab\"/></a>"
      ]
    },
    {
      "cell_type": "code",
      "source": [
        "print('another test  13 23 23 23 ')"
      ],
      "metadata": {
        "id": "PfivpdvYx4vd",
        "colab": {
          "base_uri": "https://localhost:8080/"
        },
        "outputId": "05922bc7-017d-4dcb-d4ad-a30c4efef1bd"
      },
      "execution_count": null,
      "outputs": [
        {
          "output_type": "stream",
          "name": "stdout",
          "text": [
            "another test  13 23 23 23 \n"
          ]
        }
      ]
    },
    {
      "cell_type": "code",
      "source": [
        "#final test\n",
        "for i in range(10):\n",
        "    print(i)"
      ],
      "metadata": {
        "colab": {
          "base_uri": "https://localhost:8080/"
        },
        "id": "MP_2-Ktm1voN",
        "outputId": "543e98ff-29c9-467e-d901-1280772dfd24"
      },
      "execution_count": 1,
      "outputs": [
        {
          "output_type": "stream",
          "name": "stdout",
          "text": [
            "0\n",
            "1\n",
            "2\n",
            "3\n",
            "4\n",
            "5\n",
            "6\n",
            "7\n",
            "8\n",
            "9\n"
          ]
        }
      ]
    }
  ]
}